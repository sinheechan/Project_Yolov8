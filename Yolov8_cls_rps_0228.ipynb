{
  "nbformat": 4,
  "nbformat_minor": 0,
  "metadata": {
    "colab": {
      "provenance": [],
      "gpuType": "T4",
      "authorship_tag": "ABX9TyMR+n4pXiUt0iZkp7EulO3R",
      "include_colab_link": true
    },
    "kernelspec": {
      "name": "python3",
      "display_name": "Python 3"
    },
    "language_info": {
      "name": "python"
    },
    "accelerator": "GPU"
  },
  "cells": [
    {
      "cell_type": "markdown",
      "metadata": {
        "id": "view-in-github",
        "colab_type": "text"
      },
      "source": [
        "<a href=\"https://colab.research.google.com/github/sinheechan/Project_Yolov8/blob/main/Yolov8_cls_rps_0228.ipynb\" target=\"_parent\"><img src=\"https://colab.research.google.com/assets/colab-badge.svg\" alt=\"Open In Colab\"/></a>"
      ]
    },
    {
      "cell_type": "markdown",
      "source": [
        "## 1. Source Code clone"
      ],
      "metadata": {
        "id": "TakKCPwC51D1"
      }
    },
    {
      "cell_type": "code",
      "execution_count": null,
      "metadata": {
        "id": "6Rw3rxcQmPv5"
      },
      "outputs": [],
      "source": [
        "!git clone https://github.com/ultralytics/ultralytics.git"
      ]
    },
    {
      "cell_type": "markdown",
      "source": [
        "## 2. Route Settings"
      ],
      "metadata": {
        "id": "YydHJGM76V54"
      }
    },
    {
      "cell_type": "code",
      "source": [
        "cd /content/ultralytics"
      ],
      "metadata": {
        "colab": {
          "base_uri": "https://localhost:8080/"
        },
        "id": "4m-Tr4ukmtc4",
        "outputId": "42d593a5-7c1e-419a-f4ab-93cb2a76985f"
      },
      "execution_count": null,
      "outputs": [
        {
          "output_type": "stream",
          "name": "stdout",
          "text": [
            "/content/ultralytics\n"
          ]
        }
      ]
    },
    {
      "cell_type": "markdown",
      "source": [
        "## 3. Install"
      ],
      "metadata": {
        "id": "MJwDmFuB6PUT"
      }
    },
    {
      "cell_type": "code",
      "source": [
        "!pip install ultralytics"
      ],
      "metadata": {
        "id": "mz3q1nVGmoAh"
      },
      "execution_count": null,
      "outputs": []
    },
    {
      "cell_type": "markdown",
      "source": [
        "## 4. Dataset Download_Roboflow"
      ],
      "metadata": {
        "id": "Qq0HdpsG6Iu1"
      }
    },
    {
      "cell_type": "code",
      "source": [
        "# 로보플로우에서 데이터 받기\n",
        "\n",
        "!curl -L \"https://public.roboflow.com/ds/orVECZFnvV?key=sDLGP3XRMk\" > roboflow.zip; unzip roboflow.zip; rm roboflow.zip"
      ],
      "metadata": {
        "id": "me7ahB2GmmD6"
      },
      "execution_count": null,
      "outputs": []
    },
    {
      "cell_type": "markdown",
      "source": [
        "### 5. Yolo Classify"
      ],
      "metadata": {
        "id": "aFPeO-Zv6alj"
      }
    },
    {
      "cell_type": "code",
      "source": [
        "!yolo classify train data=/content/ultralytics/rps model=yolov8n-cls.yaml epochs=10"
      ],
      "metadata": {
        "id": "k1juDATrmv4X",
        "outputId": "f0416897-27d6-486b-d180-fc5625ed4461",
        "colab": {
          "base_uri": "https://localhost:8080/"
        }
      },
      "execution_count": null,
      "outputs": [
        {
          "output_type": "stream",
          "name": "stdout",
          "text": [
            "YOLOv8n-cls summary: 99 layers, 2719288 parameters, 2719288 gradients, 4.4 GFLOPs\n",
            "Ultralytics YOLOv8.1.19 🚀 Python-3.10.12 torch-2.1.0+cu121 CUDA:0 (Tesla T4, 15102MiB)\n",
            "\u001b[34m\u001b[1mengine/trainer: \u001b[0mtask=classify, mode=train, model=yolov8n-cls.yaml, data=/content/ultralytics/rps, epochs=10, time=None, patience=100, batch=16, imgsz=224, save=True, save_period=-1, cache=False, device=None, workers=8, project=None, name=train, exist_ok=False, pretrained=True, optimizer=auto, verbose=True, seed=0, deterministic=True, single_cls=False, rect=False, cos_lr=False, close_mosaic=10, resume=False, amp=True, fraction=1.0, profile=False, freeze=None, multi_scale=False, overlap_mask=True, mask_ratio=4, dropout=0.0, val=True, split=val, save_json=False, save_hybrid=False, conf=None, iou=0.7, max_det=300, half=False, dnn=False, plots=True, source=None, vid_stride=1, stream_buffer=False, visualize=False, augment=False, agnostic_nms=False, classes=None, retina_masks=False, embed=None, show=False, save_frames=False, save_txt=False, save_conf=False, save_crop=False, show_labels=True, show_conf=True, show_boxes=True, line_width=None, format=torchscript, keras=False, optimize=False, int8=False, dynamic=False, simplify=False, opset=None, workspace=4, nms=False, lr0=0.01, lrf=0.01, momentum=0.937, weight_decay=0.0005, warmup_epochs=3.0, warmup_momentum=0.8, warmup_bias_lr=0.1, box=7.5, cls=0.5, dfl=1.5, pose=12.0, kobj=1.0, label_smoothing=0.0, nbs=64, hsv_h=0.015, hsv_s=0.7, hsv_v=0.4, degrees=0.0, translate=0.1, scale=0.5, shear=0.0, perspective=0.0, flipud=0.0, fliplr=0.5, mosaic=1.0, mixup=0.0, copy_paste=0.0, auto_augment=randaugment, erasing=0.4, crop_fraction=1.0, cfg=None, tracker=botsort.yaml, save_dir=runs/classify/train\n",
            "\u001b[34m\u001b[1mtrain:\u001b[0m /content/ultralytics/rps/train... found 2520 images in 3 classes ✅ \n",
            "\u001b[34m\u001b[1mval:\u001b[0m None...\n",
            "\u001b[34m\u001b[1mtest:\u001b[0m /content/ultralytics/rps/test... found 33 images in 3 classes ✅ \n",
            "2024-02-29 07:30:44.882661: E external/local_xla/xla/stream_executor/cuda/cuda_dnn.cc:9261] Unable to register cuDNN factory: Attempting to register factory for plugin cuDNN when one has already been registered\n",
            "2024-02-29 07:30:44.882725: E external/local_xla/xla/stream_executor/cuda/cuda_fft.cc:607] Unable to register cuFFT factory: Attempting to register factory for plugin cuFFT when one has already been registered\n",
            "2024-02-29 07:30:44.884094: E external/local_xla/xla/stream_executor/cuda/cuda_blas.cc:1515] Unable to register cuBLAS factory: Attempting to register factory for plugin cuBLAS when one has already been registered\n",
            "Overriding model.yaml nc=1000 with nc=3\n",
            "\n",
            "                   from  n    params  module                                       arguments                     \n",
            "  0                  -1  1       464  ultralytics.nn.modules.conv.Conv             [3, 16, 3, 2]                 \n",
            "  1                  -1  1      4672  ultralytics.nn.modules.conv.Conv             [16, 32, 3, 2]                \n",
            "  2                  -1  1      7360  ultralytics.nn.modules.block.C2f             [32, 32, 1, True]             \n",
            "  3                  -1  1     18560  ultralytics.nn.modules.conv.Conv             [32, 64, 3, 2]                \n",
            "  4                  -1  2     49664  ultralytics.nn.modules.block.C2f             [64, 64, 2, True]             \n",
            "  5                  -1  1     73984  ultralytics.nn.modules.conv.Conv             [64, 128, 3, 2]               \n",
            "  6                  -1  2    197632  ultralytics.nn.modules.block.C2f             [128, 128, 2, True]           \n",
            "  7                  -1  1    295424  ultralytics.nn.modules.conv.Conv             [128, 256, 3, 2]              \n",
            "  8                  -1  1    460288  ultralytics.nn.modules.block.C2f             [256, 256, 1, True]           \n",
            "  9                  -1  1    334083  ultralytics.nn.modules.head.Classify         [256, 3]                      \n",
            "YOLOv8n-cls summary: 99 layers, 1442131 parameters, 1442131 gradients, 3.4 GFLOPs\n",
            "\u001b[34m\u001b[1mTensorBoard: \u001b[0mStart with 'tensorboard --logdir runs/classify/train', view at http://localhost:6006/\n",
            "\u001b[34m\u001b[1mAMP: \u001b[0mrunning Automatic Mixed Precision (AMP) checks with YOLOv8n...\n",
            "Downloading https://github.com/ultralytics/assets/releases/download/v8.1.0/yolov8n.pt to 'yolov8n.pt'...\n",
            "100% 6.23M/6.23M [00:00<00:00, 120MB/s]\n",
            "\u001b[34m\u001b[1mAMP: \u001b[0mchecks passed ✅\n",
            "\u001b[34m\u001b[1mtrain: \u001b[0mScanning /content/ultralytics/rps/train... 2520 images, 0 corrupt: 100% 2520/2520 [00:00<00:00, 5001.47it/s]\n",
            "\u001b[34m\u001b[1mtrain: \u001b[0mNew cache created: /content/ultralytics/rps/train.cache\n",
            "\u001b[34m\u001b[1mval: \u001b[0mScanning /content/ultralytics/rps/test... 33 images, 0 corrupt: 100% 33/33 [00:00<00:00, 4232.14it/s]\n",
            "\u001b[34m\u001b[1mval: \u001b[0mNew cache created: /content/ultralytics/rps/test.cache\n",
            "\u001b[34m\u001b[1moptimizer:\u001b[0m 'optimizer=auto' found, ignoring 'lr0=0.01' and 'momentum=0.937' and determining best 'optimizer', 'lr0' and 'momentum' automatically... \n",
            "\u001b[34m\u001b[1moptimizer:\u001b[0m AdamW(lr=0.000714, momentum=0.9) with parameter groups 26 weight(decay=0.0), 27 weight(decay=0.0005), 27 bias(decay=0.0)\n",
            "\u001b[34m\u001b[1mTensorBoard: \u001b[0mmodel graph visualization added ✅\n",
            "Image sizes 224 train, 224 val\n",
            "Using 2 dataloader workers\n",
            "Logging results to \u001b[1mruns/classify/train\u001b[0m\n",
            "Starting training for 10 epochs...\n",
            "\n",
            "      Epoch    GPU_mem       loss  Instances       Size\n",
            "       1/10     0.539G      1.103         16        224:   6% 9/158 [00:02<00:25,  5.88it/s]Downloading https://ultralytics.com/assets/Arial.ttf to '/root/.config/Ultralytics/Arial.ttf'...\n",
            "       1/10     0.539G      1.103         16        224:  11% 18/158 [00:03<00:15,  9.15it/s]\n",
            "100% 755k/755k [00:00<00:00, 18.1MB/s]\n",
            "       1/10     0.543G      1.057          8        224: 100% 158/158 [00:19<00:00,  8.23it/s]\n",
            "               classes   top1_acc   top5_acc: 100% 2/2 [00:00<00:00,  6.24it/s]\n",
            "                   all      0.667          1\n",
            "\n",
            "      Epoch    GPU_mem       loss  Instances       Size\n",
            "       2/10     0.407G     0.6334          8        224: 100% 158/158 [00:16<00:00,  9.80it/s]\n",
            "               classes   top1_acc   top5_acc: 100% 2/2 [00:00<00:00, 41.40it/s]\n",
            "                   all      0.758          1\n",
            "\n",
            "      Epoch    GPU_mem       loss  Instances       Size\n",
            "       3/10     0.409G     0.4056          8        224: 100% 158/158 [00:16<00:00,  9.57it/s]\n",
            "               classes   top1_acc   top5_acc: 100% 2/2 [00:00<00:00, 25.20it/s]\n",
            "                   all      0.879          1\n",
            "\n",
            "      Epoch    GPU_mem       loss  Instances       Size\n",
            "       4/10     0.409G      0.279          8        224: 100% 158/158 [00:15<00:00,  9.96it/s]\n",
            "               classes   top1_acc   top5_acc: 100% 2/2 [00:00<00:00, 39.17it/s]\n",
            "                   all      0.848          1\n",
            "\n",
            "      Epoch    GPU_mem       loss  Instances       Size\n",
            "       5/10     0.407G      0.277          8        224: 100% 158/158 [00:15<00:00,  9.96it/s]\n",
            "               classes   top1_acc   top5_acc: 100% 2/2 [00:00<00:00, 47.86it/s]\n",
            "                   all      0.879          1\n",
            "\n",
            "      Epoch    GPU_mem       loss  Instances       Size\n",
            "       6/10     0.409G     0.2432          8        224: 100% 158/158 [00:15<00:00, 10.01it/s]\n",
            "               classes   top1_acc   top5_acc: 100% 2/2 [00:00<00:00, 34.41it/s]\n",
            "                   all      0.879          1\n",
            "\n",
            "      Epoch    GPU_mem       loss  Instances       Size\n",
            "       7/10     0.407G     0.2052          8        224: 100% 158/158 [00:16<00:00,  9.41it/s]\n",
            "               classes   top1_acc   top5_acc: 100% 2/2 [00:00<00:00, 38.43it/s]\n",
            "                   all      0.939          1\n",
            "\n",
            "      Epoch    GPU_mem       loss  Instances       Size\n",
            "       8/10     0.409G     0.1786          8        224: 100% 158/158 [00:15<00:00, 10.04it/s]\n",
            "               classes   top1_acc   top5_acc: 100% 2/2 [00:00<00:00, 49.78it/s]\n",
            "                   all      0.909          1\n",
            "\n",
            "      Epoch    GPU_mem       loss  Instances       Size\n",
            "       9/10     0.407G     0.1748          8        224: 100% 158/158 [00:15<00:00,  9.90it/s]\n",
            "               classes   top1_acc   top5_acc: 100% 2/2 [00:00<00:00, 32.55it/s]\n",
            "                   all      0.909          1\n",
            "\n",
            "      Epoch    GPU_mem       loss  Instances       Size\n",
            "      10/10     0.409G     0.1276          8        224: 100% 158/158 [00:16<00:00,  9.32it/s]\n",
            "               classes   top1_acc   top5_acc: 100% 2/2 [00:00<00:00, 27.67it/s]\n",
            "                   all      0.939          1\n",
            "\n",
            "10 epochs completed in 0.048 hours.\n",
            "Optimizer stripped from runs/classify/train/weights/last.pt, 3.0MB\n",
            "Optimizer stripped from runs/classify/train/weights/best.pt, 3.0MB\n",
            "\n",
            "Validating runs/classify/train/weights/best.pt...\n",
            "Ultralytics YOLOv8.1.19 🚀 Python-3.10.12 torch-2.1.0+cu121 CUDA:0 (Tesla T4, 15102MiB)\n",
            "YOLOv8n-cls summary (fused): 73 layers, 1438723 parameters, 0 gradients, 3.3 GFLOPs\n",
            "WARNING ⚠️ Dataset 'split=val' not found, using 'split=test' instead.\n",
            "\u001b[34m\u001b[1mtrain:\u001b[0m /content/ultralytics/rps/train... found 2520 images in 3 classes ✅ \n",
            "\u001b[34m\u001b[1mval:\u001b[0m None...\n",
            "\u001b[34m\u001b[1mtest:\u001b[0m /content/ultralytics/rps/test... found 33 images in 3 classes ✅ \n",
            "               classes   top1_acc   top5_acc: 100% 2/2 [00:00<00:00, 22.92it/s]\n",
            "                   all      0.939          1\n",
            "Speed: 0.1ms preprocess, 0.4ms inference, 0.0ms loss, 0.0ms postprocess per image\n",
            "Results saved to \u001b[1mruns/classify/train\u001b[0m\n",
            "Results saved to \u001b[1mruns/classify/train\u001b[0m\n",
            "💡 Learn more at https://docs.ultralytics.com/modes/train\n"
          ]
        }
      ]
    }
  ]
}