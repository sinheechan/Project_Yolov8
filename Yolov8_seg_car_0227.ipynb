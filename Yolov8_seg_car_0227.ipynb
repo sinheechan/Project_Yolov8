{
  "nbformat": 4,
  "nbformat_minor": 0,
  "metadata": {
    "colab": {
      "provenance": [],
      "gpuType": "T4",
      "authorship_tag": "ABX9TyNwknNzJ2MZEx6cj40IB1eS",
      "include_colab_link": true
    },
    "kernelspec": {
      "name": "python3",
      "display_name": "Python 3"
    },
    "language_info": {
      "name": "python"
    },
    "accelerator": "GPU"
  },
  "cells": [
    {
      "cell_type": "markdown",
      "metadata": {
        "id": "view-in-github",
        "colab_type": "text"
      },
      "source": [
        "<a href=\"https://colab.research.google.com/github/sinheechan/Project_Yolov8/blob/main/Yolov8_seg_car_0227.ipynb\" target=\"_parent\"><img src=\"https://colab.research.google.com/assets/colab-badge.svg\" alt=\"Open In Colab\"/></a>"
      ]
    },
    {
      "cell_type": "markdown",
      "source": [
      
      ],
      "metadata": {
        "id": "GgMXozw_JXs5"
      }
    },
    {
      "cell_type": "markdown",
      "source": [
        "## 1. Source Code clone"
      ],
      "metadata": {
        "id": "6kYQWe_jyQv9"
      }
    },
    {
      "cell_type": "code",
      "execution_count": 1,
      "metadata": {
        "colab": {
          "base_uri": "https://localhost:8080/"
        },
        "id": "RCvVL7i9JTE-",
        "outputId": "9e51760e-5177-42ff-fbd2-b7079247243f"
      },
      "outputs": [
        {
          "output_type": "stream",
          "name": "stdout",
          "text": [
            "Cloning into 'ultralytics'...\n",
            "remote: Enumerating objects: 23591, done.\u001b[K\n",
            "remote: Counting objects: 100% (636/636), done.\u001b[K\n",
            "remote: Compressing objects: 100% (443/443), done.\u001b[K\n",
            "remote: Total 23591 (delta 377), reused 331 (delta 193), pack-reused 22955\u001b[K\n",
            "Receiving objects: 100% (23591/23591), 14.21 MiB | 13.13 MiB/s, done.\n",
            "Resolving deltas: 100% (16470/16470), done.\n"
          ]
        }
      ],
      "source": [
        "# ultralytics 라이브러리 소스 코드 clone\n",
        "!git clone https://github.com/ultralytics/ultralytics.git"
      ]
    },
    {
      "cell_type": "markdown",
      "source": [
        "## 2. Route Settings"
      ],
      "metadata": {
        "id": "QnkvPVYjyUqO"
      }
    },
    {
      "cell_type": "code",
      "source": [
        "cd ultralytics/"
      ],
      "metadata": {
        "colab": {
          "base_uri": "https://localhost:8080/"
        },
        "id": "e3iJcZgxyERJ",
        "outputId": "4c4bd908-ad36-4995-98d6-85e7205836cf"
      },
      "execution_count": 8,
      "outputs": [
        {
          "output_type": "stream",
          "name": "stdout",
          "text": [
            "/content/ultralytics/ultralytics\n"
          ]
        }
      ]
    },
    {
      "cell_type": "code",
      "source": [
        "pwd"
      ],
      "metadata": {
        "colab": {
          "base_uri": "https://localhost:8080/",
          "height": 35
        },
        "id": "wF_JrNxFyGVd",
        "outputId": "bfea1595-0796-4c7e-ae2c-24831ea6fc3c"
      },
      "execution_count": 9,
      "outputs": [
        {
          "output_type": "execute_result",
          "data": {
            "text/plain": [
              "'/content/ultralytics/ultralytics'"
            ],
            "application/vnd.google.colaboratory.intrinsic+json": {
              "type": "string"
            }
          },
          "metadata": {},
          "execution_count": 9
        }
      ]
    },
    {
      "cell_type": "markdown",
      "source": [
        "## 3. Install"
      ],
      "metadata": {
        "id": "-d4lD4YaQZ3P"
      }
    },
    {
      "cell_type": "code",
      "source": [
        "!pip install ultralytics"
      ],
      "metadata": {
        "id": "M1qay8WgJzxl"
      },
      "execution_count": null,
      "outputs": []
    },
    {
      "cell_type": "markdown",
      "source": [
        "## 4. Yolo Predict"
      ],
      "metadata": {
        "id": "_8lSrR6XQmF3"
      }
    },
    {
      "cell_type": "code",
      "source": [
        "!yolo predict"
      ],
      "metadata": {
        "colab": {
          "base_uri": "https://localhost:8080/"
        },
        "id": "taTpFyMiJ19Z",
        "outputId": "460b1db9-e156-4c4f-a587-b5b5d551c765"
      },
      "execution_count": null,
      "outputs": [
        {
          "output_type": "stream",
          "name": "stdout",
          "text": [
            "WARNING ⚠️ 'model' is missing. Using default 'model=yolov8n.pt'.\n",
            "Downloading https://github.com/ultralytics/assets/releases/download/v8.1.0/yolov8n.pt to 'yolov8n.pt'...\n",
            "100% 6.23M/6.23M [00:00<00:00, 120MB/s]\n",
            "WARNING ⚠️ 'source' is missing. Using default 'source=/usr/local/lib/python3.10/dist-packages/ultralytics/assets'.\n",
            "Ultralytics YOLOv8.1.19 🚀 Python-3.10.12 torch-2.1.0+cu121 CUDA:0 (Tesla T4, 15102MiB)\n",
            "YOLOv8n summary (fused): 168 layers, 3151904 parameters, 0 gradients, 8.7 GFLOPs\n",
            "\n",
            "image 1/2 /usr/local/lib/python3.10/dist-packages/ultralytics/assets/bus.jpg: 640x480 4 persons, 1 bus, 1 stop sign, 96.8ms\n",
            "image 2/2 /usr/local/lib/python3.10/dist-packages/ultralytics/assets/zidane.jpg: 384x640 2 persons, 1 tie, 87.4ms\n",
            "Speed: 7.4ms preprocess, 92.1ms inference, 339.0ms postprocess per image at shape (1, 3, 384, 640)\n",
            "Results saved to \u001b[1mruns/detect/predict\u001b[0m\n",
            "💡 Learn more at https://docs.ultralytics.com/modes/predict\n"
          ]
        }
      ]
    },
    {
      "cell_type": "markdown",
      "source": [
        "## 5. Dataset Download_Roboflow"
      ],
      "metadata": {
        "id": "mJZWDp5kQpL9"
      }
    },
    {
      "cell_type": "code",
      "source": [
        "!curl -L \"https://universe.roboflow.com/ds/Hxie9vewYe?key=hbcFa5gtFP\"> roboflow.zip"
      ],
      "metadata": {
        "colab": {
          "base_uri": "https://localhost:8080/"
        },
        "id": "0BWG0yWvJ7Fy",
        "outputId": "d7fa2c0c-c29c-4888-9127-3a6b61a5403e"
      },
      "execution_count": null,
      "outputs": [
        {
          "output_type": "stream",
          "name": "stdout",
          "text": [
            "  % Total    % Received % Xferd  Average Speed   Time    Time     Time  Current\n",
            "                                 Dload  Upload   Total   Spent    Left  Speed\n",
            "100   903  100   903    0     0   3537      0 --:--:-- --:--:-- --:--:--  3541\n",
            "100  877M  100  877M    0     0  51.7M      0  0:00:16  0:00:16 --:--:-- 82.5M\n"
          ]
        }
      ]
    },
    {
      "cell_type": "code",
      "source": [
        "!unzip roboflow.zip"
      ],
      "metadata": {
        "id": "ECeSBHdgJ9il"
      },
      "execution_count": null,
      "outputs": []
    },
    {
      "cell_type": "markdown",
      "source": [
        "## 6. Train / Val Dataset\n",
        "\n",
        "- train set / val set 이미지와 레이블 파일을 각각 변수에 저장한다."
      ],
      "metadata": {
        "id": "8Pfl7RtGRF-k"
      }
    },
    {
      "cell_type": "code",
      "source": [
        "from glob import glob\n",
        "\n",
        "train_img = glob('/content/ultralytics/train/images/*.jpg')\n",
        "train_txt = glob('/content/ultralytics/train/labels/*.txt')\n",
        "\n",
        "val_img = glob('/content/ultralytics/valid/images/*.jpg')\n",
        "val_txt = glob('/content/ultralytics/valid/labels/*.txt')\n",
        "\n",
        "print(len(train_img), len(train_txt))\n",
        "print(len(val_img), len(val_txt))"
      ],
      "metadata": {
        "colab": {
          "base_uri": "https://localhost:8080/"
        },
        "id": "TlM1zO-RJ9qR",
        "outputId": "0bd6b2c9-ce78-4f8b-c3ca-df575cc42868"
      },
      "execution_count": null,
      "outputs": [
        {
          "output_type": "stream",
          "name": "stdout",
          "text": [
            "6603 6603\n",
            "1887 1887\n"
          ]
        }
      ]
    },
    {
      "cell_type": "markdown",
      "source": [
        "- train_text + train_image : text_image 파일의 경로가 train_text 파일 각 줄에 기록\n",
        "- val_text + val_image : val_image 파일의 경로가 val_text 파일 각 줄에 기록"
      ],
      "metadata": {
        "id": "gxR7bU11RLJZ"
      }
    },
    {
      "cell_type": "code",
      "source": [
        "# 파일 쓰기 # train.txt, val.txt 파일 생성\n",
        "with open('/content/ultralytics/train.txt', 'w') as f:\n",
        "  f.write('\\n'.join(train_img) + '\\n')\n",
        "\n",
        "with open('/content/ultralytics/val.txt', 'w') as f:\n",
        "  f.write('\\n'.join(val_img) + '\\n')"
      ],
      "metadata": {
        "id": "Kjl2gpvOJ9xJ"
      },
      "execution_count": null,
      "outputs": []
    },
    {
      "cell_type": "markdown",
      "source": [
        "## 7. yaml 수정"
      ],
      "metadata": {
        "id": "hftY97vJUR4f"
      }
    },
    {
      "cell_type": "markdown",
      "source": [
        "- data.yaml 파일을 읽고 파이썬 데이터 구조로 로드한 후, 데이터 구조를 수정하여 새로운 경로를 할당"
      ],
      "metadata": {
        "id": "U_eZdOZKRp4T"
      }
    },
    {
      "cell_type": "code",
      "source": [
        "# yaml 수정\n",
        "# 내 train, val 자료셋이 어디있는지 yaml 파일 안에 기록해줘야함 / 수동으로 기입해도 상관은 없다.\n",
        "import yaml\n",
        "\n",
        "with open('/content/ultralytics/data.yaml') as f:\n",
        "  data = yaml.full_load(f)\n",
        "\n",
        "print(data)\n",
        "data['train'] = '/content/ultralytics/train.txt'\n",
        "data['val'] = '/content/ultralytics/val.txt'\n",
        "\n",
        "with open('/content/ultralytics/data.yaml', 'w') as f:\n",
        "  yaml.dump(data, f)"
      ],
      "metadata": {
        "colab": {
          "base_uri": "https://localhost:8080/"
        },
        "id": "BGi956D0KHSW",
        "outputId": "a22abfce-814b-4c45-a4c6-83a7b3b7a6a2"
      },
      "execution_count": null,
      "outputs": [
        {
          "output_type": "stream",
          "name": "stdout",
          "text": [
            "{'train': '../train/images', 'val': '../valid/images', 'test': '../test/images', 'nc': 14, 'names': ['Bonnet', 'Frontbumper', 'Frontdoor', 'Frontfender', 'Headlights', 'Rearbumper', 'Reardoor', 'Rearfender', 'Rearlamp', 'Rockerpanel', 'Sidemirror', 'Trunklid', 'Wheel', 'Windshield'], 'roboflow': {'workspace': 'alpaco5-f3woi', 'project': 'part-autolabeld', 'version': 5, 'license': 'Public Domain', 'url': 'https://universe.roboflow.com/alpaco5-f3woi/part-autolabeld/dataset/5'}}\n"
          ]
        }
      ]
    },
    {
      "cell_type": "markdown",
      "source": [
        "## 8. Segmentation train\n",
        "\n",
        "- 모델을 사용하여 이미지를 세그멘테이션(segmentation)하는 작업을 수행한다.\n",
        "\n",
        "- 세그맨테이션 | 학습 옵션 | YOLO 모델 지정 | 데이터 지정 | 에포크 = 10"
      ],
      "metadata": {
        "id": "sdFa2sIwRxhF"
      }
    },
    {
      "cell_type": "code",
      "source": [
        "!yolo segment train model=yolov8s-seg.pt data=/content/ultralytics/data.yaml epochs=10"
      ],
      "metadata": {
        "colab": {
          "base_uri": "https://localhost:8080/"
        },
        "id": "kZE6A_pjKHZz",
        "outputId": "c3acc300-4d9c-4d2c-c5a1-c2265d804b92"
      },
      "execution_count": null,
      "outputs": [
        {
          "output_type": "stream",
          "name": "stdout",
          "text": [
            "Downloading https://github.com/ultralytics/assets/releases/download/v8.1.0/yolov8s-seg.pt to 'yolov8s-seg.pt'...\n",
            "100% 22.8M/22.8M [00:00<00:00, 239MB/s]\n",
            "Ultralytics YOLOv8.1.19 🚀 Python-3.10.12 torch-2.1.0+cu121 CUDA:0 (Tesla T4, 15102MiB)\n",
            "\u001b[34m\u001b[1mengine/trainer: \u001b[0mtask=segment, mode=train, model=yolov8s-seg.pt, data=/content/ultralytics/data.yaml, epochs=10, time=None, patience=100, batch=16, imgsz=640, save=True, save_period=-1, cache=False, device=None, workers=8, project=None, name=train, exist_ok=False, pretrained=True, optimizer=auto, verbose=True, seed=0, deterministic=True, single_cls=False, rect=False, cos_lr=False, close_mosaic=10, resume=False, amp=True, fraction=1.0, profile=False, freeze=None, multi_scale=False, overlap_mask=True, mask_ratio=4, dropout=0.0, val=True, split=val, save_json=False, save_hybrid=False, conf=None, iou=0.7, max_det=300, half=False, dnn=False, plots=True, source=None, vid_stride=1, stream_buffer=False, visualize=False, augment=False, agnostic_nms=False, classes=None, retina_masks=False, embed=None, show=False, save_frames=False, save_txt=False, save_conf=False, save_crop=False, show_labels=True, show_conf=True, show_boxes=True, line_width=None, format=torchscript, keras=False, optimize=False, int8=False, dynamic=False, simplify=False, opset=None, workspace=4, nms=False, lr0=0.01, lrf=0.01, momentum=0.937, weight_decay=0.0005, warmup_epochs=3.0, warmup_momentum=0.8, warmup_bias_lr=0.1, box=7.5, cls=0.5, dfl=1.5, pose=12.0, kobj=1.0, label_smoothing=0.0, nbs=64, hsv_h=0.015, hsv_s=0.7, hsv_v=0.4, degrees=0.0, translate=0.1, scale=0.5, shear=0.0, perspective=0.0, flipud=0.0, fliplr=0.5, mosaic=1.0, mixup=0.0, copy_paste=0.0, auto_augment=randaugment, erasing=0.4, crop_fraction=1.0, cfg=None, tracker=botsort.yaml, save_dir=runs/segment/train\n",
            "Downloading https://ultralytics.com/assets/Arial.ttf to '/root/.config/Ultralytics/Arial.ttf'...\n",
            "100% 755k/755k [00:00<00:00, 31.8MB/s]\n",
            "2024-02-27 06:03:15.900513: E external/local_xla/xla/stream_executor/cuda/cuda_dnn.cc:9261] Unable to register cuDNN factory: Attempting to register factory for plugin cuDNN when one has already been registered\n",
            "2024-02-27 06:03:15.900565: E external/local_xla/xla/stream_executor/cuda/cuda_fft.cc:607] Unable to register cuFFT factory: Attempting to register factory for plugin cuFFT when one has already been registered\n",
            "2024-02-27 06:03:15.901870: E external/local_xla/xla/stream_executor/cuda/cuda_blas.cc:1515] Unable to register cuBLAS factory: Attempting to register factory for plugin cuBLAS when one has already been registered\n",
            "Overriding model.yaml nc=80 with nc=14\n",
            "\n",
            "                   from  n    params  module                                       arguments                     \n",
            "  0                  -1  1       928  ultralytics.nn.modules.conv.Conv             [3, 32, 3, 2]                 \n",
            "  1                  -1  1     18560  ultralytics.nn.modules.conv.Conv             [32, 64, 3, 2]                \n",
            "  2                  -1  1     29056  ultralytics.nn.modules.block.C2f             [64, 64, 1, True]             \n",
            "  3                  -1  1     73984  ultralytics.nn.modules.conv.Conv             [64, 128, 3, 2]               \n",
            "  4                  -1  2    197632  ultralytics.nn.modules.block.C2f             [128, 128, 2, True]           \n",
            "  5                  -1  1    295424  ultralytics.nn.modules.conv.Conv             [128, 256, 3, 2]              \n",
            "  6                  -1  2    788480  ultralytics.nn.modules.block.C2f             [256, 256, 2, True]           \n",
            "  7                  -1  1   1180672  ultralytics.nn.modules.conv.Conv             [256, 512, 3, 2]              \n",
            "  8                  -1  1   1838080  ultralytics.nn.modules.block.C2f             [512, 512, 1, True]           \n",
            "  9                  -1  1    656896  ultralytics.nn.modules.block.SPPF            [512, 512, 5]                 \n",
            " 10                  -1  1         0  torch.nn.modules.upsampling.Upsample         [None, 2, 'nearest']          \n",
            " 11             [-1, 6]  1         0  ultralytics.nn.modules.conv.Concat           [1]                           \n",
            " 12                  -1  1    591360  ultralytics.nn.modules.block.C2f             [768, 256, 1]                 \n",
            " 13                  -1  1         0  torch.nn.modules.upsampling.Upsample         [None, 2, 'nearest']          \n",
            " 14             [-1, 4]  1         0  ultralytics.nn.modules.conv.Concat           [1]                           \n",
            " 15                  -1  1    148224  ultralytics.nn.modules.block.C2f             [384, 128, 1]                 \n",
            " 16                  -1  1    147712  ultralytics.nn.modules.conv.Conv             [128, 128, 3, 2]              \n",
            " 17            [-1, 12]  1         0  ultralytics.nn.modules.conv.Concat           [1]                           \n",
            " 18                  -1  1    493056  ultralytics.nn.modules.block.C2f             [384, 256, 1]                 \n",
            " 19                  -1  1    590336  ultralytics.nn.modules.conv.Conv             [256, 256, 3, 2]              \n",
            " 20             [-1, 9]  1         0  ultralytics.nn.modules.conv.Concat           [1]                           \n",
            " 21                  -1  1   1969152  ultralytics.nn.modules.block.C2f             [768, 512, 1]                 \n",
            " 22        [15, 18, 21]  1   2775962  ultralytics.nn.modules.head.Segment          [14, 32, 128, [128, 256, 512]]\n",
            "YOLOv8s-seg summary: 261 layers, 11795514 parameters, 11795498 gradients, 42.7 GFLOPs\n",
            "\n",
            "Transferred 411/417 items from pretrained weights\n",
            "\u001b[34m\u001b[1mTensorBoard: \u001b[0mStart with 'tensorboard --logdir runs/segment/train', view at http://localhost:6006/\n",
            "Freezing layer 'model.22.dfl.conv.weight'\n",
            "\u001b[34m\u001b[1mAMP: \u001b[0mrunning Automatic Mixed Precision (AMP) checks with YOLOv8n...\n",
            "\u001b[34m\u001b[1mAMP: \u001b[0mchecks passed ✅\n",
            "\u001b[34m\u001b[1mtrain: \u001b[0mScanning /content/ultralytics/train/labels... 6603 images, 1 backgrounds, 0 corrupt: 100% 6603/6603 [00:07<00:00, 899.84it/s] \n",
            "\u001b[34m\u001b[1mtrain: \u001b[0mWARNING ⚠️ /content/ultralytics/train/images/0122413_as-3243139_jpg.rf.27cba18d3b5cb377f6fe0e2f4c2f3f46.jpg: 1 duplicate labels removed\n",
            "\u001b[34m\u001b[1mtrain: \u001b[0mWARNING ⚠️ /content/ultralytics/train/images/0189576_sc-157769_jpg.rf.58e76ac524dfb9ab3fb4ac1a9cf547e9.jpg: 1 duplicate labels removed\n",
            "\u001b[34m\u001b[1mtrain: \u001b[0mWARNING ⚠️ /content/ultralytics/train/images/0259102_sc-150122_jpg.rf.fe44c3dc6124e79b4038f85eaf180781.jpg: 1 duplicate labels removed\n",
            "\u001b[34m\u001b[1mtrain: \u001b[0mWARNING ⚠️ /content/ultralytics/train/images/0306794_sc-1016074_jpg.rf.eebae45adec8e55ce4598aeee72ee1e0.jpg: 1 duplicate labels removed\n",
            "\u001b[34m\u001b[1mtrain: \u001b[0mWARNING ⚠️ /content/ultralytics/train/images/0330446_sc-226428_jpg.rf.ed12673188cf4bd1a004e658cab9bf65.jpg: 1 duplicate labels removed\n",
            "\u001b[34m\u001b[1mtrain: \u001b[0mWARNING ⚠️ /content/ultralytics/train/images/0466044_sc-199874_jpg.rf.3f7c9f6e7b6d5f10e451a0a0283565a0.jpg: 1 duplicate labels removed\n",
            "\u001b[34m\u001b[1mtrain: \u001b[0mWARNING ⚠️ /content/ultralytics/train/images/0523868_as-0041759_jpg.rf.f0d6d24c3a542f1485dc526c452bbf4f.jpg: 1 duplicate labels removed\n",
            "\u001b[34m\u001b[1mtrain: \u001b[0mWARNING ⚠️ /content/ultralytics/train/images/0540109_as-0047882_jpg.rf.ce12c21f9b43c6f813bee5dd9de56caa.jpg: 1 duplicate labels removed\n",
            "\u001b[34m\u001b[1mtrain: \u001b[0mWARNING ⚠️ /content/ultralytics/train/images/0550889_sc-206394_jpg.rf.61ff94fbf1d470fdff3e4a5a1cef972f.jpg: 1 duplicate labels removed\n",
            "\u001b[34m\u001b[1mtrain: \u001b[0mWARNING ⚠️ /content/ultralytics/train/images/0590096_as-0081526_jpg.rf.8f7c348ad0e0f34f45b96c8475e532cf.jpg: 1 duplicate labels removed\n",
            "\u001b[34m\u001b[1mtrain: \u001b[0mWARNING ⚠️ /content/ultralytics/train/images/0596695_as-0075152_jpg.rf.ab4c5bcf6339e051ca4aacbb6a76e4ac.jpg: 1 duplicate labels removed\n",
            "\u001b[34m\u001b[1mtrain: \u001b[0mNew cache created: /content/ultralytics/train/labels.cache\n",
            "\u001b[34m\u001b[1malbumentations: \u001b[0mBlur(p=0.01, blur_limit=(3, 7)), MedianBlur(p=0.01, blur_limit=(3, 7)), ToGray(p=0.01), CLAHE(p=0.01, clip_limit=(1, 4.0), tile_grid_size=(8, 8))\n",
            "\u001b[34m\u001b[1mval: \u001b[0mScanning /content/ultralytics/valid/labels... 1887 images, 0 backgrounds, 0 corrupt: 100% 1887/1887 [00:03<00:00, 580.35it/s] \n",
            "\u001b[34m\u001b[1mval: \u001b[0mWARNING ⚠️ /content/ultralytics/valid/images/0029502_sc-161833_jpg.rf.f0cc602cbbe567abee8c5e8097684ff0.jpg: 1 duplicate labels removed\n",
            "\u001b[34m\u001b[1mval: \u001b[0mWARNING ⚠️ /content/ultralytics/valid/images/0177909_as-0042156_jpg.rf.a43d7ffcbc344ee0d2a2a0a4b7015c87.jpg: 1 duplicate labels removed\n",
            "\u001b[34m\u001b[1mval: \u001b[0mWARNING ⚠️ /content/ultralytics/valid/images/0237724_as-0068252_jpg.rf.b365be8c22a06734c9fd1a0774eb1d4c.jpg: 1 duplicate labels removed\n",
            "\u001b[34m\u001b[1mval: \u001b[0mWARNING ⚠️ /content/ultralytics/valid/images/0259102_sc-150122_jpg.rf.6df8746593987da8438d6d3ff69d6352.jpg: 1 duplicate labels removed\n",
            "\u001b[34m\u001b[1mval: \u001b[0mWARNING ⚠️ /content/ultralytics/valid/images/0462933_as-0092659_jpg.rf.7ce6070ccaac34dcea37ed27e78fd271.jpg: 1 duplicate labels removed\n",
            "\u001b[34m\u001b[1mval: \u001b[0mWARNING ⚠️ /content/ultralytics/valid/images/0505611_as-0081663_jpg.rf.2af3d6eee8718c4100c80de6e7ffd01b.jpg: 1 duplicate labels removed\n",
            "\u001b[34m\u001b[1mval: \u001b[0mNew cache created: /content/ultralytics/valid/labels.cache\n",
            "Plotting labels to runs/segment/train/labels.jpg... \n",
            "\u001b[34m\u001b[1moptimizer:\u001b[0m 'optimizer=auto' found, ignoring 'lr0=0.01' and 'momentum=0.937' and determining best 'optimizer', 'lr0' and 'momentum' automatically... \n",
            "\u001b[34m\u001b[1moptimizer:\u001b[0m AdamW(lr=0.000556, momentum=0.9) with parameter groups 66 weight(decay=0.0), 77 weight(decay=0.0005), 76 bias(decay=0.0)\n",
            "\u001b[34m\u001b[1mTensorBoard: \u001b[0mmodel graph visualization added ✅\n",
            "Image sizes 640 train, 640 val\n",
            "Using 2 dataloader workers\n",
            "Logging results to \u001b[1mruns/segment/train\u001b[0m\n",
            "Starting training for 10 epochs...\n",
            "Closing dataloader mosaic\n",
            "\u001b[34m\u001b[1malbumentations: \u001b[0mBlur(p=0.01, blur_limit=(3, 7)), MedianBlur(p=0.01, blur_limit=(3, 7)), ToGray(p=0.01), CLAHE(p=0.01, clip_limit=(1, 4.0), tile_grid_size=(8, 8))\n",
            "\n",
            "      Epoch    GPU_mem   box_loss   seg_loss   cls_loss   dfl_loss  Instances       Size\n",
            "       1/10      5.06G     0.9146       1.66      2.205      1.264         36        640: 100% 413/413 [03:22<00:00,  2.04it/s]\n",
            "                 Class     Images  Instances      Box(P          R      mAP50  mAP50-95)     Mask(P          R      mAP50  mAP50-95): 100% 59/59 [00:32<00:00,  1.82it/s]\n",
            "                   all       1887       5543      0.735      0.692      0.737      0.614      0.738      0.689      0.731      0.604\n",
            "\n",
            "      Epoch    GPU_mem   box_loss   seg_loss   cls_loss   dfl_loss  Instances       Size\n",
            "       2/10      5.14G     0.6551     0.9785      0.895      1.039         36        640: 100% 413/413 [03:12<00:00,  2.15it/s]\n",
            "                 Class     Images  Instances      Box(P          R      mAP50  mAP50-95)     Mask(P          R      mAP50  mAP50-95): 100% 59/59 [00:30<00:00,  1.92it/s]\n",
            "                   all       1887       5543      0.777      0.724      0.782       0.65      0.773      0.724      0.775      0.642\n",
            "\n",
            "      Epoch    GPU_mem   box_loss   seg_loss   cls_loss   dfl_loss  Instances       Size\n",
            "       3/10      5.16G      0.626     0.8967     0.7975      1.018         34        640: 100% 413/413 [03:11<00:00,  2.15it/s]\n",
            "                 Class     Images  Instances      Box(P          R      mAP50  mAP50-95)     Mask(P          R      mAP50  mAP50-95): 100% 59/59 [00:30<00:00,  1.95it/s]\n",
            "                   all       1887       5543      0.778      0.755      0.802      0.678      0.779      0.754      0.799      0.686\n",
            "\n",
            "      Epoch    GPU_mem   box_loss   seg_loss   cls_loss   dfl_loss  Instances       Size\n",
            "       4/10      5.11G     0.5769     0.8282     0.7227      0.989         29        640: 100% 413/413 [03:08<00:00,  2.19it/s]\n",
            "                 Class     Images  Instances      Box(P          R      mAP50  mAP50-95)     Mask(P          R      mAP50  mAP50-95): 100% 59/59 [00:31<00:00,  1.87it/s]\n",
            "                   all       1887       5543      0.771      0.811      0.841      0.727      0.769      0.809      0.834      0.732\n",
            "\n",
            "      Epoch    GPU_mem   box_loss   seg_loss   cls_loss   dfl_loss  Instances       Size\n",
            "       5/10      5.17G     0.5461     0.7872      0.658     0.9668         26        640: 100% 413/413 [03:08<00:00,  2.19it/s]\n",
            "                 Class     Images  Instances      Box(P          R      mAP50  mAP50-95)     Mask(P          R      mAP50  mAP50-95): 100% 59/59 [00:30<00:00,  1.93it/s]\n",
            "                   all       1887       5543      0.812      0.723      0.819      0.712      0.808      0.716      0.811      0.706\n",
            "\n",
            "      Epoch    GPU_mem   box_loss   seg_loss   cls_loss   dfl_loss  Instances       Size\n",
            "       6/10      5.16G     0.5091     0.7235     0.6058     0.9474         26        640: 100% 413/413 [03:07<00:00,  2.20it/s]\n",
            "                 Class     Images  Instances      Box(P          R      mAP50  mAP50-95)     Mask(P          R      mAP50  mAP50-95): 100% 59/59 [00:30<00:00,  1.91it/s]\n",
            "                   all       1887       5543       0.83      0.791      0.846      0.755      0.833      0.784      0.842      0.752\n",
            "\n",
            "      Epoch    GPU_mem   box_loss   seg_loss   cls_loss   dfl_loss  Instances       Size\n",
            "       7/10      5.15G      0.474     0.6775     0.5647      0.928         33        640: 100% 413/413 [03:09<00:00,  2.18it/s]\n",
            "                 Class     Images  Instances      Box(P          R      mAP50  mAP50-95)     Mask(P          R      mAP50  mAP50-95): 100% 59/59 [00:30<00:00,  1.92it/s]\n",
            "                   all       1887       5543      0.793      0.835       0.87      0.784      0.789      0.831      0.863       0.78\n",
            "\n",
            "      Epoch    GPU_mem   box_loss   seg_loss   cls_loss   dfl_loss  Instances       Size\n",
            "       8/10      5.13G     0.4398     0.6202     0.5245     0.9092         36        640: 100% 413/413 [03:09<00:00,  2.17it/s]\n",
            "                 Class     Images  Instances      Box(P          R      mAP50  mAP50-95)     Mask(P          R      mAP50  mAP50-95): 100% 59/59 [00:30<00:00,  1.91it/s]\n",
            "                   all       1887       5543      0.846      0.804      0.878      0.798      0.843        0.8      0.872      0.796\n",
            "\n",
            "      Epoch    GPU_mem   box_loss   seg_loss   cls_loss   dfl_loss  Instances       Size\n",
            "       9/10       5.1G     0.4134     0.5826     0.4875     0.8965         33        640: 100% 413/413 [03:08<00:00,  2.19it/s]\n",
            "                 Class     Images  Instances      Box(P          R      mAP50  mAP50-95)     Mask(P          R      mAP50  mAP50-95): 100% 59/59 [00:30<00:00,  1.93it/s]\n",
            "                   all       1887       5543      0.852      0.805       0.89      0.809      0.849      0.801      0.885       0.81\n",
            "\n",
            "      Epoch    GPU_mem   box_loss   seg_loss   cls_loss   dfl_loss  Instances       Size\n",
            "      10/10      5.15G     0.3879     0.5419       0.45     0.8859         27        640: 100% 413/413 [03:07<00:00,  2.20it/s]\n",
            "                 Class     Images  Instances      Box(P          R      mAP50  mAP50-95)     Mask(P          R      mAP50  mAP50-95): 100% 59/59 [00:30<00:00,  1.93it/s]\n",
            "                   all       1887       5543      0.829      0.835      0.897      0.834      0.826      0.831      0.892      0.826\n",
            "\n",
            "10 epochs completed in 0.625 hours.\n",
            "Optimizer stripped from runs/segment/train/weights/last.pt, 23.8MB\n",
            "Optimizer stripped from runs/segment/train/weights/best.pt, 23.8MB\n",
            "\n",
            "Validating runs/segment/train/weights/best.pt...\n",
            "Ultralytics YOLOv8.1.19 🚀 Python-3.10.12 torch-2.1.0+cu121 CUDA:0 (Tesla T4, 15102MiB)\n",
            "YOLOv8s-seg summary (fused): 195 layers, 11785018 parameters, 0 gradients, 42.5 GFLOPs\n",
            "                 Class     Images  Instances      Box(P          R      mAP50  mAP50-95)     Mask(P          R      mAP50  mAP50-95): 100% 59/59 [00:34<00:00,  1.71it/s]\n",
            "                   all       1887       5543      0.828      0.834      0.897      0.834      0.825      0.831      0.892      0.826\n",
            "                Bonnet       1887        272       0.86      0.903      0.948      0.904      0.857        0.9      0.946      0.911\n",
            "           Frontbumper       1887        729      0.944       0.96      0.985      0.946      0.945      0.962      0.982      0.953\n",
            "             Frontdoor       1887        578      0.909      0.791      0.937      0.883      0.907       0.79      0.933       0.88\n",
            "           Frontfender       1887        568      0.917      0.917      0.973      0.923      0.917      0.917      0.973      0.919\n",
            "            Headlights       1887        338      0.694      0.908      0.884      0.792      0.694      0.908      0.879      0.795\n",
            "            Rearbumper       1887        640       0.89      0.982      0.979      0.924      0.887      0.979      0.978      0.949\n",
            "              Reardoor       1887        521      0.905      0.885      0.967      0.936      0.897      0.877      0.958      0.937\n",
            "            Rearfender       1887        533      0.919      0.942      0.978      0.914       0.92      0.944      0.976      0.916\n",
            "              Rearlamp       1887        194      0.589      0.845      0.799       0.72      0.575      0.825      0.774      0.686\n",
            "           Rockerpanel       1887        446      0.762      0.791      0.847      0.741      0.758      0.787      0.836      0.605\n",
            "            Sidemirror       1887        157       0.97      0.803      0.943      0.805      0.963      0.796      0.933      0.825\n",
            "              Trunklid       1887        363      0.814      0.934      0.952      0.918      0.814      0.934      0.952      0.914\n",
            "                 Wheel       1887        196      0.812      0.769      0.867      0.837      0.812      0.769      0.865      0.844\n",
            "            Windshield       1887          8      0.607       0.25        0.5      0.434      0.607       0.25        0.5      0.427\n",
            "Speed: 0.2ms preprocess, 4.9ms inference, 0.0ms loss, 2.2ms postprocess per image\n",
            "Results saved to \u001b[1mruns/segment/train\u001b[0m\n",
            "💡 Learn more at https://docs.ultralytics.com/modes/train\n"
          ]
        }
      ]
    }
  ]
}
